{
 "cells": [
  {
   "cell_type": "code",
   "execution_count": 2,
   "id": "45082f2d",
   "metadata": {},
   "outputs": [],
   "source": [
    "import os\n",
    "import sys\n",
    "\n",
    "import pandas as pd\n",
    "import numpy as np\n",
    "from drawdata import draw_scatter\n",
    "\n",
    "from matplotlib import pyplot as plt"
   ]
  },
  {
   "cell_type": "code",
   "execution_count": 3,
   "id": "8bca45c6",
   "metadata": {},
   "outputs": [
    {
     "data": {
      "text/html": [
       "\n",
       "        <iframe\n",
       "            width=\"800\"\n",
       "            height=\"550\"\n",
       "            src=\"https://drawdata.xyz/scatter.html\"\n",
       "            frameborder=\"0\"\n",
       "            allowfullscreen\n",
       "        ></iframe>\n",
       "        "
      ],
      "text/plain": [
       "<IPython.lib.display.IFrame at 0x7f0c095bdb00>"
      ]
     },
     "execution_count": 3,
     "metadata": {},
     "output_type": "execute_result"
    }
   ],
   "source": [
    "draw_scatter()"
   ]
  },
  {
   "cell_type": "code",
   "execution_count": 4,
   "id": "3640dec1",
   "metadata": {},
   "outputs": [],
   "source": [
    "class LogisticRegression():\n",
    "    def __init__(self, lr, epoch):\n",
    "        self.X_train = None\n",
    "        self.y_train = None\n",
    "        self.lr = lr\n",
    "        self.epoch = epoch\n",
    "        self.weights = np.array([[np.random.rand()], [np.random.rand()], [np.random.rand()]])\n",
    "\n",
    "    def grad_negative_theta_0(self, X_sample, z):\n",
    "        return 1. - 1./(np.exp(z) + 1)\n",
    "\n",
    "    def grad_negative_theta_1(self, X_sample, z):\n",
    "        x1 = X_sample[0][1]\n",
    "        return x1 - x1/(np.exp(z) + 1)\n",
    "\n",
    "    def grad_negative_theta_2(self, X_sample, z):\n",
    "        x2 = X_sample[0][2]\n",
    "        return x2 - x2/(np.exp(z) + 1)\n",
    "\n",
    "    def grad_positive_theta_0(self, X_sample, z):\n",
    "        return -1./(np.exp(z) + 1)\n",
    "\n",
    "    def grad_positive_theta_1(self, X_sample, z):\n",
    "        x1 = X_sample[0][1]\n",
    "        return -x1/(np.exp(z) + 1)\n",
    "\n",
    "    def grad_positive_theta_2(self, X_sample, z):\n",
    "        x2 = X_sample[0][2]\n",
    "        return -x2/(np.exp(z) + 1)\n",
    "\n",
    "    def sigmoid(self, z):\n",
    "        return 1./(1. + np.exp(-z))\n",
    "\n",
    "    def run(self):\n",
    "        losses = list()\n",
    "        grads = list()\n",
    "        \n",
    "        positive = True\n",
    "\n",
    "        for X_sample, y_sample in zip(self.X_train, self.y_train):\n",
    "            if y_sample == 1:\n",
    "                positive = True\n",
    "            else:\n",
    "                positive = False\n",
    "\n",
    "            z = np.matmul(X_sample.reshape((1, 3)), self.weights).item()\n",
    "            y_pred = self.sigmoid(z)\n",
    "\n",
    "            if positive is True:\n",
    "                # positive (y == 1) loss function\n",
    "                positive_loss = -np.log(y_pred)\n",
    "                losses.append(positive_loss)\n",
    "                \n",
    "                grad_pos_theta_0 = self.grad_positive_theta_0(X_sample.reshape((1, 3)), z)\n",
    "                grad_pos_theta_1 = self.grad_positive_theta_1(X_sample.reshape((1, 3)), z)\n",
    "                grad_pos_theta_2 = self.grad_positive_theta_2(X_sample.reshape((1, 3)), z)\n",
    "                \n",
    "                grads.append(\n",
    "                    np.array([[grad_pos_theta_0], \n",
    "                              [grad_pos_theta_1], \n",
    "                              [grad_pos_theta_2]]))\n",
    "                \n",
    "\n",
    "            else:\n",
    "                # vegative (y == 0) loss function\n",
    "                negative_loss = -np.log(1.- y_pred)\n",
    "                losses.append(negative_loss)\n",
    "                \n",
    "                grad_neg_theta_0 = self.grad_negative_theta_0(X_sample.reshape((1, 3)), z)\n",
    "                grad_neg_theta_1 = self.grad_negative_theta_1(X_sample.reshape((1, 3)), z)\n",
    "                grad_neg_theta_2 = self.grad_negative_theta_2(X_sample.reshape((1, 3)), z)\n",
    "                \n",
    "                grads.append(\n",
    "                    np.array([[grad_neg_theta_0], \n",
    "                              [grad_neg_theta_1], \n",
    "                              [grad_neg_theta_2]]))\n",
    "                \n",
    "                \n",
    "        self.weights = self.weights - self.lr * np.mean(np.stack(grads, axis=0), axis=0)\n",
    "        cost = np.mean(np.array(losses))\n",
    "        \n",
    "        return cost\n",
    "    \n",
    "    def fit(self, X_train, y_train):\n",
    "        self.X_train = X_train\n",
    "        self.y_train = y_train\n",
    "        \n",
    "        for i in range(self.epoch):\n",
    "            cost = self.run()\n",
    "            print(f\"epoch: {i}, cost: {cost}, weights: {self.weights}\")\n",
    "    \n",
    "    def predict(self, X_sample):\n",
    "        z = np.matmul(X_sample.reshape((1, 3)), self.weights).item()\n",
    "        y_pred = self.sigmoid(z)\n",
    "        return y_pred"
   ]
  },
  {
   "cell_type": "code",
   "execution_count": 5,
   "id": "ca303008",
   "metadata": {},
   "outputs": [
    {
     "data": {
      "text/html": [
       "<div>\n",
       "<style scoped>\n",
       "    .dataframe tbody tr th:only-of-type {\n",
       "        vertical-align: middle;\n",
       "    }\n",
       "\n",
       "    .dataframe tbody tr th {\n",
       "        vertical-align: top;\n",
       "    }\n",
       "\n",
       "    .dataframe thead th {\n",
       "        text-align: right;\n",
       "    }\n",
       "</style>\n",
       "<table border=\"1\" class=\"dataframe\">\n",
       "  <thead>\n",
       "    <tr style=\"text-align: right;\">\n",
       "      <th></th>\n",
       "      <th>x</th>\n",
       "      <th>y</th>\n",
       "      <th>z</th>\n",
       "    </tr>\n",
       "  </thead>\n",
       "  <tbody>\n",
       "    <tr>\n",
       "      <th>0</th>\n",
       "      <td>267.363025</td>\n",
       "      <td>433.231277</td>\n",
       "      <td>a</td>\n",
       "    </tr>\n",
       "    <tr>\n",
       "      <th>1</th>\n",
       "      <td>245.654990</td>\n",
       "      <td>423.758635</td>\n",
       "      <td>a</td>\n",
       "    </tr>\n",
       "    <tr>\n",
       "      <th>2</th>\n",
       "      <td>233.827184</td>\n",
       "      <td>448.033358</td>\n",
       "      <td>a</td>\n",
       "    </tr>\n",
       "    <tr>\n",
       "      <th>3</th>\n",
       "      <td>246.202526</td>\n",
       "      <td>374.593563</td>\n",
       "      <td>a</td>\n",
       "    </tr>\n",
       "    <tr>\n",
       "      <th>4</th>\n",
       "      <td>251.369154</td>\n",
       "      <td>393.773179</td>\n",
       "      <td>a</td>\n",
       "    </tr>\n",
       "  </tbody>\n",
       "</table>\n",
       "</div>"
      ],
      "text/plain": [
       "            x           y  z\n",
       "0  267.363025  433.231277  a\n",
       "1  245.654990  423.758635  a\n",
       "2  233.827184  448.033358  a\n",
       "3  246.202526  374.593563  a\n",
       "4  251.369154  393.773179  a"
      ]
     },
     "execution_count": 5,
     "metadata": {},
     "output_type": "execute_result"
    }
   ],
   "source": [
    "raw = pd.read_csv(\"data.csv\")\n",
    "raw.head()"
   ]
  },
  {
   "cell_type": "code",
   "execution_count": 6,
   "id": "1828eb9c",
   "metadata": {},
   "outputs": [
    {
     "data": {
      "text/plain": [
       "145"
      ]
     },
     "execution_count": 6,
     "metadata": {},
     "output_type": "execute_result"
    }
   ],
   "source": [
    "len(raw)"
   ]
  },
  {
   "cell_type": "code",
   "execution_count": 7,
   "id": "8de1ef51",
   "metadata": {},
   "outputs": [
    {
     "data": {
      "text/plain": [
       "x    0\n",
       "y    0\n",
       "z    0\n",
       "dtype: int64"
      ]
     },
     "execution_count": 7,
     "metadata": {},
     "output_type": "execute_result"
    }
   ],
   "source": [
    "# show nulls\n",
    "raw.isnull().sum()"
   ]
  },
  {
   "cell_type": "code",
   "execution_count": 8,
   "id": "34e40465",
   "metadata": {},
   "outputs": [
    {
     "data": {
      "text/html": [
       "<div>\n",
       "<style scoped>\n",
       "    .dataframe tbody tr th:only-of-type {\n",
       "        vertical-align: middle;\n",
       "    }\n",
       "\n",
       "    .dataframe tbody tr th {\n",
       "        vertical-align: top;\n",
       "    }\n",
       "\n",
       "    .dataframe thead th {\n",
       "        text-align: right;\n",
       "    }\n",
       "</style>\n",
       "<table border=\"1\" class=\"dataframe\">\n",
       "  <thead>\n",
       "    <tr style=\"text-align: right;\">\n",
       "      <th></th>\n",
       "      <th>x</th>\n",
       "      <th>y</th>\n",
       "      <th>z</th>\n",
       "    </tr>\n",
       "  </thead>\n",
       "  <tbody>\n",
       "    <tr>\n",
       "      <th>count</th>\n",
       "      <td>145.000000</td>\n",
       "      <td>145.000000</td>\n",
       "      <td>145</td>\n",
       "    </tr>\n",
       "    <tr>\n",
       "      <th>unique</th>\n",
       "      <td>NaN</td>\n",
       "      <td>NaN</td>\n",
       "      <td>2</td>\n",
       "    </tr>\n",
       "    <tr>\n",
       "      <th>top</th>\n",
       "      <td>NaN</td>\n",
       "      <td>NaN</td>\n",
       "      <td>b</td>\n",
       "    </tr>\n",
       "    <tr>\n",
       "      <th>freq</th>\n",
       "      <td>NaN</td>\n",
       "      <td>NaN</td>\n",
       "      <td>87</td>\n",
       "    </tr>\n",
       "    <tr>\n",
       "      <th>mean</th>\n",
       "      <td>432.027578</td>\n",
       "      <td>262.631495</td>\n",
       "      <td>NaN</td>\n",
       "    </tr>\n",
       "    <tr>\n",
       "      <th>std</th>\n",
       "      <td>164.513103</td>\n",
       "      <td>101.858520</td>\n",
       "      <td>NaN</td>\n",
       "    </tr>\n",
       "    <tr>\n",
       "      <th>min</th>\n",
       "      <td>132.765690</td>\n",
       "      <td>58.154437</td>\n",
       "      <td>NaN</td>\n",
       "    </tr>\n",
       "    <tr>\n",
       "      <th>25%</th>\n",
       "      <td>259.420456</td>\n",
       "      <td>177.651148</td>\n",
       "      <td>NaN</td>\n",
       "    </tr>\n",
       "    <tr>\n",
       "      <th>50%</th>\n",
       "      <td>500.219012</td>\n",
       "      <td>246.984035</td>\n",
       "      <td>NaN</td>\n",
       "    </tr>\n",
       "    <tr>\n",
       "      <th>75%</th>\n",
       "      <td>571.693708</td>\n",
       "      <td>367.924923</td>\n",
       "      <td>NaN</td>\n",
       "    </tr>\n",
       "    <tr>\n",
       "      <th>max</th>\n",
       "      <td>661.615894</td>\n",
       "      <td>448.033358</td>\n",
       "      <td>NaN</td>\n",
       "    </tr>\n",
       "  </tbody>\n",
       "</table>\n",
       "</div>"
      ],
      "text/plain": [
       "                 x           y    z\n",
       "count   145.000000  145.000000  145\n",
       "unique         NaN         NaN    2\n",
       "top            NaN         NaN    b\n",
       "freq           NaN         NaN   87\n",
       "mean    432.027578  262.631495  NaN\n",
       "std     164.513103  101.858520  NaN\n",
       "min     132.765690   58.154437  NaN\n",
       "25%     259.420456  177.651148  NaN\n",
       "50%     500.219012  246.984035  NaN\n",
       "75%     571.693708  367.924923  NaN\n",
       "max     661.615894  448.033358  NaN"
      ]
     },
     "execution_count": 8,
     "metadata": {},
     "output_type": "execute_result"
    }
   ],
   "source": [
    "raw.describe(include='all')"
   ]
  },
  {
   "cell_type": "code",
   "execution_count": 9,
   "id": "80caef39",
   "metadata": {},
   "outputs": [
    {
     "name": "stdout",
     "output_type": "stream",
     "text": [
      "58\n",
      "87\n"
     ]
    }
   ],
   "source": [
    "# number of elements belong to class \"a\"\n",
    "print(len(raw.loc[raw['z'] == 'a']))\n",
    "\n",
    "# number of elements belong to class \"b\"\n",
    "print(len(raw.loc[raw['z'] == 'b']))"
   ]
  },
  {
   "cell_type": "code",
   "execution_count": 10,
   "id": "ae193504",
   "metadata": {},
   "outputs": [
    {
     "data": {
      "text/plain": [
       "0      267.36\n",
       "1      245.65\n",
       "2      233.83\n",
       "3      246.20\n",
       "4      251.37\n",
       "        ...  \n",
       "140    568.21\n",
       "141    577.97\n",
       "142    535.14\n",
       "143    546.06\n",
       "144    566.80\n",
       "Name: x, Length: 145, dtype: float64"
      ]
     },
     "execution_count": 10,
     "metadata": {},
     "output_type": "execute_result"
    }
   ],
   "source": [
    "# round fp\n",
    "np.around(raw['x'], 2)"
   ]
  },
  {
   "cell_type": "code",
   "execution_count": 11,
   "id": "06a4aa98",
   "metadata": {},
   "outputs": [],
   "source": [
    "# Standard Scale of Data\n",
    "# (data - mean)/std\n",
    "x1_mean = np.mean(raw['x'])\n",
    "x2_mean = np.mean(raw['y'])\n",
    "x1_std = np.std(raw['x'])\n",
    "x2_std = np.std(raw['y'])"
   ]
  },
  {
   "cell_type": "code",
   "execution_count": 12,
   "id": "33cf9de8",
   "metadata": {},
   "outputs": [],
   "source": [
    "train_data = pd.DataFrame()"
   ]
  },
  {
   "cell_type": "code",
   "execution_count": 13,
   "id": "9636d7ff",
   "metadata": {},
   "outputs": [],
   "source": [
    "train_data['x1'] = np.around((raw['x'] - x1_mean)/x1_std, 2)\n",
    "train_data['x2'] = np.around((raw['y'] - x2_mean)/x2_std, 2)\n",
    "train_data['y'] = raw['z'].map(lambda record: 1 if record=='a' else 0)"
   ]
  },
  {
   "cell_type": "code",
   "execution_count": 14,
   "id": "03a302fd",
   "metadata": {},
   "outputs": [
    {
     "data": {
      "text/html": [
       "<div>\n",
       "<style scoped>\n",
       "    .dataframe tbody tr th:only-of-type {\n",
       "        vertical-align: middle;\n",
       "    }\n",
       "\n",
       "    .dataframe tbody tr th {\n",
       "        vertical-align: top;\n",
       "    }\n",
       "\n",
       "    .dataframe thead th {\n",
       "        text-align: right;\n",
       "    }\n",
       "</style>\n",
       "<table border=\"1\" class=\"dataframe\">\n",
       "  <thead>\n",
       "    <tr style=\"text-align: right;\">\n",
       "      <th></th>\n",
       "      <th>x1</th>\n",
       "      <th>x2</th>\n",
       "      <th>y</th>\n",
       "    </tr>\n",
       "  </thead>\n",
       "  <tbody>\n",
       "    <tr>\n",
       "      <th>0</th>\n",
       "      <td>-1.00</td>\n",
       "      <td>1.68</td>\n",
       "      <td>1</td>\n",
       "    </tr>\n",
       "    <tr>\n",
       "      <th>1</th>\n",
       "      <td>-1.14</td>\n",
       "      <td>1.59</td>\n",
       "      <td>1</td>\n",
       "    </tr>\n",
       "    <tr>\n",
       "      <th>2</th>\n",
       "      <td>-1.21</td>\n",
       "      <td>1.83</td>\n",
       "      <td>1</td>\n",
       "    </tr>\n",
       "    <tr>\n",
       "      <th>3</th>\n",
       "      <td>-1.13</td>\n",
       "      <td>1.10</td>\n",
       "      <td>1</td>\n",
       "    </tr>\n",
       "    <tr>\n",
       "      <th>4</th>\n",
       "      <td>-1.10</td>\n",
       "      <td>1.29</td>\n",
       "      <td>1</td>\n",
       "    </tr>\n",
       "  </tbody>\n",
       "</table>\n",
       "</div>"
      ],
      "text/plain": [
       "     x1    x2  y\n",
       "0 -1.00  1.68  1\n",
       "1 -1.14  1.59  1\n",
       "2 -1.21  1.83  1\n",
       "3 -1.13  1.10  1\n",
       "4 -1.10  1.29  1"
      ]
     },
     "execution_count": 14,
     "metadata": {},
     "output_type": "execute_result"
    }
   ],
   "source": [
    "train_data.head()"
   ]
  },
  {
   "cell_type": "code",
   "execution_count": 15,
   "id": "8c3b5be3",
   "metadata": {
    "scrolled": true
   },
   "outputs": [
    {
     "data": {
      "text/html": [
       "<div>\n",
       "<style scoped>\n",
       "    .dataframe tbody tr th:only-of-type {\n",
       "        vertical-align: middle;\n",
       "    }\n",
       "\n",
       "    .dataframe tbody tr th {\n",
       "        vertical-align: top;\n",
       "    }\n",
       "\n",
       "    .dataframe thead th {\n",
       "        text-align: right;\n",
       "    }\n",
       "</style>\n",
       "<table border=\"1\" class=\"dataframe\">\n",
       "  <thead>\n",
       "    <tr style=\"text-align: right;\">\n",
       "      <th></th>\n",
       "      <th>x1</th>\n",
       "      <th>x2</th>\n",
       "      <th>y</th>\n",
       "    </tr>\n",
       "  </thead>\n",
       "  <tbody>\n",
       "    <tr>\n",
       "      <th>count</th>\n",
       "      <td>145.000000</td>\n",
       "      <td>145.000000</td>\n",
       "      <td>145.000000</td>\n",
       "    </tr>\n",
       "    <tr>\n",
       "      <th>mean</th>\n",
       "      <td>-0.000069</td>\n",
       "      <td>0.000483</td>\n",
       "      <td>0.400000</td>\n",
       "    </tr>\n",
       "    <tr>\n",
       "      <th>std</th>\n",
       "      <td>1.003451</td>\n",
       "      <td>1.003019</td>\n",
       "      <td>0.491596</td>\n",
       "    </tr>\n",
       "    <tr>\n",
       "      <th>min</th>\n",
       "      <td>-1.830000</td>\n",
       "      <td>-2.010000</td>\n",
       "      <td>0.000000</td>\n",
       "    </tr>\n",
       "    <tr>\n",
       "      <th>25%</th>\n",
       "      <td>-1.050000</td>\n",
       "      <td>-0.840000</td>\n",
       "      <td>0.000000</td>\n",
       "    </tr>\n",
       "    <tr>\n",
       "      <th>50%</th>\n",
       "      <td>0.420000</td>\n",
       "      <td>-0.150000</td>\n",
       "      <td>0.000000</td>\n",
       "    </tr>\n",
       "    <tr>\n",
       "      <th>75%</th>\n",
       "      <td>0.850000</td>\n",
       "      <td>1.040000</td>\n",
       "      <td>1.000000</td>\n",
       "    </tr>\n",
       "    <tr>\n",
       "      <th>max</th>\n",
       "      <td>1.400000</td>\n",
       "      <td>1.830000</td>\n",
       "      <td>1.000000</td>\n",
       "    </tr>\n",
       "  </tbody>\n",
       "</table>\n",
       "</div>"
      ],
      "text/plain": [
       "               x1          x2           y\n",
       "count  145.000000  145.000000  145.000000\n",
       "mean    -0.000069    0.000483    0.400000\n",
       "std      1.003451    1.003019    0.491596\n",
       "min     -1.830000   -2.010000    0.000000\n",
       "25%     -1.050000   -0.840000    0.000000\n",
       "50%      0.420000   -0.150000    0.000000\n",
       "75%      0.850000    1.040000    1.000000\n",
       "max      1.400000    1.830000    1.000000"
      ]
     },
     "execution_count": 15,
     "metadata": {},
     "output_type": "execute_result"
    }
   ],
   "source": [
    "train_data.describe(include='all')"
   ]
  },
  {
   "cell_type": "code",
   "execution_count": 16,
   "id": "8c5c7b66",
   "metadata": {},
   "outputs": [
    {
     "data": {
      "text/plain": [
       "<matplotlib.collections.PathCollection at 0x7f0ba6b5b828>"
      ]
     },
     "execution_count": 16,
     "metadata": {},
     "output_type": "execute_result"
    },
    {
     "data": {
      "image/png": "[encoded data removed]",
      "text/plain": [
       "<Figure size 576x576 with 1 Axes>"
      ]
     },
     "metadata": {
      "needs_background": "light"
     },
     "output_type": "display_data"
    }
   ],
   "source": [
    "fig, axes = plt.subplots(1,1, figsize=(8, 8))\n",
    "axes.scatter(train_data.loc[train_data['y']==1, 'x1'], train_data.loc[train_data['y']==1, 'x2'])\n",
    "axes.scatter(train_data.loc[train_data['y']==0, 'x1'], train_data.loc[train_data['y']==0, 'x2'])"
   ]
  },
  {
   "cell_type": "code",
   "execution_count": 17,
   "id": "6a639562",
   "metadata": {},
   "outputs": [
    {
     "data": {
      "text/html": [
       "<div>\n",
       "<style scoped>\n",
       "    .dataframe tbody tr th:only-of-type {\n",
       "        vertical-align: middle;\n",
       "    }\n",
       "\n",
       "    .dataframe tbody tr th {\n",
       "        vertical-align: top;\n",
       "    }\n",
       "\n",
       "    .dataframe thead th {\n",
       "        text-align: right;\n",
       "    }\n",
       "</style>\n",
       "<table border=\"1\" class=\"dataframe\">\n",
       "  <thead>\n",
       "    <tr style=\"text-align: right;\">\n",
       "      <th></th>\n",
       "      <th>x1</th>\n",
       "      <th>x2</th>\n",
       "      <th>y</th>\n",
       "    </tr>\n",
       "  </thead>\n",
       "  <tbody>\n",
       "    <tr>\n",
       "      <th>count</th>\n",
       "      <td>145.000000</td>\n",
       "      <td>145.000000</td>\n",
       "      <td>145.000000</td>\n",
       "    </tr>\n",
       "    <tr>\n",
       "      <th>mean</th>\n",
       "      <td>-0.000069</td>\n",
       "      <td>0.000483</td>\n",
       "      <td>0.400000</td>\n",
       "    </tr>\n",
       "    <tr>\n",
       "      <th>std</th>\n",
       "      <td>1.003451</td>\n",
       "      <td>1.003019</td>\n",
       "      <td>0.491596</td>\n",
       "    </tr>\n",
       "    <tr>\n",
       "      <th>min</th>\n",
       "      <td>-1.830000</td>\n",
       "      <td>-2.010000</td>\n",
       "      <td>0.000000</td>\n",
       "    </tr>\n",
       "    <tr>\n",
       "      <th>25%</th>\n",
       "      <td>-1.050000</td>\n",
       "      <td>-0.840000</td>\n",
       "      <td>0.000000</td>\n",
       "    </tr>\n",
       "    <tr>\n",
       "      <th>50%</th>\n",
       "      <td>0.420000</td>\n",
       "      <td>-0.150000</td>\n",
       "      <td>0.000000</td>\n",
       "    </tr>\n",
       "    <tr>\n",
       "      <th>75%</th>\n",
       "      <td>0.850000</td>\n",
       "      <td>1.040000</td>\n",
       "      <td>1.000000</td>\n",
       "    </tr>\n",
       "    <tr>\n",
       "      <th>max</th>\n",
       "      <td>1.400000</td>\n",
       "      <td>1.830000</td>\n",
       "      <td>1.000000</td>\n",
       "    </tr>\n",
       "  </tbody>\n",
       "</table>\n",
       "</div>"
      ],
      "text/plain": [
       "               x1          x2           y\n",
       "count  145.000000  145.000000  145.000000\n",
       "mean    -0.000069    0.000483    0.400000\n",
       "std      1.003451    1.003019    0.491596\n",
       "min     -1.830000   -2.010000    0.000000\n",
       "25%     -1.050000   -0.840000    0.000000\n",
       "50%      0.420000   -0.150000    0.000000\n",
       "75%      0.850000    1.040000    1.000000\n",
       "max      1.400000    1.830000    1.000000"
      ]
     },
     "execution_count": 17,
     "metadata": {},
     "output_type": "execute_result"
    }
   ],
   "source": [
    "train_data.describe()"
   ]
  },
  {
   "cell_type": "code",
   "execution_count": 18,
   "id": "df69e061",
   "metadata": {},
   "outputs": [
    {
     "data": {
      "text/html": [
       "<div>\n",
       "<style scoped>\n",
       "    .dataframe tbody tr th:only-of-type {\n",
       "        vertical-align: middle;\n",
       "    }\n",
       "\n",
       "    .dataframe tbody tr th {\n",
       "        vertical-align: top;\n",
       "    }\n",
       "\n",
       "    .dataframe thead th {\n",
       "        text-align: right;\n",
       "    }\n",
       "</style>\n",
       "<table border=\"1\" class=\"dataframe\">\n",
       "  <thead>\n",
       "    <tr style=\"text-align: right;\">\n",
       "      <th></th>\n",
       "      <th>x1</th>\n",
       "      <th>x2</th>\n",
       "      <th>y</th>\n",
       "    </tr>\n",
       "  </thead>\n",
       "  <tbody>\n",
       "    <tr>\n",
       "      <th>count</th>\n",
       "      <td>145.000000</td>\n",
       "      <td>145.000000</td>\n",
       "      <td>145.000000</td>\n",
       "    </tr>\n",
       "    <tr>\n",
       "      <th>mean</th>\n",
       "      <td>-0.000069</td>\n",
       "      <td>0.000483</td>\n",
       "      <td>0.400000</td>\n",
       "    </tr>\n",
       "    <tr>\n",
       "      <th>std</th>\n",
       "      <td>1.003451</td>\n",
       "      <td>1.003019</td>\n",
       "      <td>0.491596</td>\n",
       "    </tr>\n",
       "    <tr>\n",
       "      <th>min</th>\n",
       "      <td>-1.830000</td>\n",
       "      <td>-2.010000</td>\n",
       "      <td>0.000000</td>\n",
       "    </tr>\n",
       "    <tr>\n",
       "      <th>25%</th>\n",
       "      <td>-1.050000</td>\n",
       "      <td>-0.840000</td>\n",
       "      <td>0.000000</td>\n",
       "    </tr>\n",
       "    <tr>\n",
       "      <th>50%</th>\n",
       "      <td>0.420000</td>\n",
       "      <td>-0.150000</td>\n",
       "      <td>0.000000</td>\n",
       "    </tr>\n",
       "    <tr>\n",
       "      <th>75%</th>\n",
       "      <td>0.850000</td>\n",
       "      <td>1.040000</td>\n",
       "      <td>1.000000</td>\n",
       "    </tr>\n",
       "    <tr>\n",
       "      <th>max</th>\n",
       "      <td>1.400000</td>\n",
       "      <td>1.830000</td>\n",
       "      <td>1.000000</td>\n",
       "    </tr>\n",
       "  </tbody>\n",
       "</table>\n",
       "</div>"
      ],
      "text/plain": [
       "               x1          x2           y\n",
       "count  145.000000  145.000000  145.000000\n",
       "mean    -0.000069    0.000483    0.400000\n",
       "std      1.003451    1.003019    0.491596\n",
       "min     -1.830000   -2.010000    0.000000\n",
       "25%     -1.050000   -0.840000    0.000000\n",
       "50%      0.420000   -0.150000    0.000000\n",
       "75%      0.850000    1.040000    1.000000\n",
       "max      1.400000    1.830000    1.000000"
      ]
     },
     "execution_count": 18,
     "metadata": {},
     "output_type": "execute_result"
    }
   ],
   "source": [
    "train_data_shuffled = train_data.sample(frac=1)\n",
    "train_data_shuffled.describe()"
   ]
  },
  {
   "cell_type": "code",
   "execution_count": 19,
   "id": "9f6fa248",
   "metadata": {},
   "outputs": [],
   "source": [
    "train_data_shuffled['x0'] = 1.\n",
    "X_train = train_data_shuffled[['x0', 'x1', 'x2']].values\n",
    "y_train = train_data_shuffled[['y']].values.ravel()"
   ]
  },
  {
   "cell_type": "code",
   "execution_count": 20,
   "id": "adac91e3",
   "metadata": {},
   "outputs": [
    {
     "name": "stdout",
     "output_type": "stream",
     "text": [
      "epoch: 0, cost: 1.0354795955064038, weights: [[0.65778822]\n",
      " [0.90255287]\n",
      " [0.53127808]]\n",
      "epoch: 1, cost: 1.034572187475781, weights: [[0.65741463]\n",
      " [0.90170916]\n",
      " [0.53199123]]\n",
      "epoch: 2, cost: 1.0336657758496073, weights: [[0.65704112]\n",
      " [0.90086591]\n",
      " [0.53270391]]\n",
      "epoch: 3, cost: 1.032760359881769, weights: [[0.65666768]\n",
      " [0.90002311]\n",
      " [0.53341611]]\n",
      "epoch: 4, cost: 1.03185593882521, weights: [[0.65629432]\n",
      " [0.89918076]\n",
      " [0.53412785]]\n",
      "epoch: 5, cost: 1.030952511931937, weights: [[0.65592103]\n",
      " [0.89833887]\n",
      " [0.53483911]]\n",
      "epoch: 6, cost: 1.0300500784530244, weights: [[0.65554781]\n",
      " [0.89749743]\n",
      " [0.5355499 ]]\n",
      "epoch: 7, cost: 1.0291486376386183, weights: [[0.65517466]\n",
      " [0.89665645]\n",
      " [0.53626022]]\n",
      "epoch: 8, cost: 1.0282481887379435, weights: [[0.65480159]\n",
      " [0.89581592]\n",
      " [0.53697007]]\n",
      "epoch: 9, cost: 1.0273487309993055, weights: [[0.65442859]\n",
      " [0.89497585]\n",
      " [0.53767945]]\n",
      "epoch: 10, cost: 1.0264502636700976, weights: [[0.65405566]\n",
      " [0.89413623]\n",
      " [0.53838836]]\n",
      "epoch: 11, cost: 1.0255527859968046, weights: [[0.65368281]\n",
      " [0.89329706]\n",
      " [0.5390968 ]]\n",
      "epoch: 12, cost: 1.0246562972250088, weights: [[0.65331004]\n",
      " [0.89245835]\n",
      " [0.53980477]]\n",
      "epoch: 13, cost: 1.0237607965993936, weights: [[0.65293733]\n",
      " [0.89162009]\n",
      " [0.54051227]]\n",
      "epoch: 14, cost: 1.022866283363749, weights: [[0.65256471]\n",
      " [0.89078229]\n",
      " [0.5412193 ]]\n",
      "epoch: 15, cost: 1.0219727567609762, weights: [[0.65219216]\n",
      " [0.88994494]\n",
      " [0.54192586]]\n",
      "epoch: 16, cost: 1.021080216033093, weights: [[0.65181968]\n",
      " [0.88910804]\n",
      " [0.54263195]]\n",
      "epoch: 17, cost: 1.0201886604212378, weights: [[0.65144728]\n",
      " [0.88827159]\n",
      " [0.54333757]]\n",
      "epoch: 18, cost: 1.0192980891656753, weights: [[0.65107495]\n",
      " [0.8874356 ]\n",
      " [0.54404273]]\n",
      "epoch: 19, cost: 1.0184085015058004, weights: [[0.6507027 ]\n",
      " [0.88660006]\n",
      " [0.54474741]]\n",
      "epoch: 20, cost: 1.0175198966801442, weights: [[0.65033053]\n",
      " [0.88576498]\n",
      " [0.54545163]]\n",
      "epoch: 21, cost: 1.0166322739263778, weights: [[0.64995843]\n",
      " [0.88493034]\n",
      " [0.54615538]]\n",
      "epoch: 22, cost: 1.0157456324813179, weights: [[0.64958641]\n",
      " [0.88409616]\n",
      " [0.54685866]]\n",
      "epoch: 23, cost: 1.014859971580931, weights: [[0.64921446]\n",
      " [0.88326243]\n",
      " [0.54756147]]\n",
      "epoch: 24, cost: 1.0139752904603385, weights: [[0.6488426 ]\n",
      " [0.88242916]\n",
      " [0.54826381]]\n",
      "epoch: 25, cost: 1.0130915883538218, weights: [[0.64847081]\n",
      " [0.88159633]\n",
      " [0.54896569]]\n",
      "epoch: 26, cost: 1.0122088644948266, weights: [[0.64809909]\n",
      " [0.88076396]\n",
      " [0.54966709]]\n",
      "epoch: 27, cost: 1.0113271181159682, weights: [[0.64772746]\n",
      " [0.87993204]\n",
      " [0.55036803]]\n",
      "epoch: 28, cost: 1.0104463484490358, weights: [[0.6473559 ]\n",
      " [0.87910058]\n",
      " [0.55106851]]\n",
      "epoch: 29, cost: 1.0095665547249975, weights: [[0.64698442]\n",
      " [0.87826956]\n",
      " [0.55176851]]\n",
      "epoch: 30, cost: 1.008687736174006, weights: [[0.64661301]\n",
      " [0.877439  ]\n",
      " [0.55246805]]\n",
      "epoch: 31, cost: 1.0078098920254015, weights: [[0.64624169]\n",
      " [0.87660888]\n",
      " [0.55316712]]\n",
      "epoch: 32, cost: 1.0069330215077186, weights: [[0.64587044]\n",
      " [0.87577922]\n",
      " [0.55386573]]\n",
      "epoch: 33, cost: 1.0060571238486895, weights: [[0.64549928]\n",
      " [0.87495001]\n",
      " [0.55456387]]\n",
      "epoch: 34, cost: 1.0051821982752496, weights: [[0.64512819]\n",
      " [0.87412125]\n",
      " [0.55526154]]\n",
      "epoch: 35, cost: 1.0043082440135416, weights: [[0.64475718]\n",
      " [0.87329295]\n",
      " [0.55595875]]\n",
      "epoch: 36, cost: 1.0034352602889218, weights: [[0.64438625]\n",
      " [0.87246509]\n",
      " [0.55665549]]\n",
      "epoch: 37, cost: 1.002563246325963, weights: [[0.6440154 ]\n",
      " [0.87163768]\n",
      " [0.55735177]]\n",
      "epoch: 38, cost: 1.0016922013484604, weights: [[0.64364463]\n",
      " [0.87081073]\n",
      " [0.55804758]]\n",
      "epoch: 39, cost: 1.0008221245794364, weights: [[0.64327394]\n",
      " [0.86998422]\n",
      " [0.55874292]]\n",
      "epoch: 40, cost: 0.9999530152411439, weights: [[0.64290333]\n",
      " [0.86915817]\n",
      " [0.5594378 ]]\n",
      "epoch: 41, cost: 0.9990848725550742, weights: [[0.6425328 ]\n",
      " [0.86833256]\n",
      " [0.56013222]]\n",
      "epoch: 42, cost: 0.9982176957419577, weights: [[0.64216235]\n",
      " [0.86750741]\n",
      " [0.56082617]]\n",
      "epoch: 43, cost: 0.9973514840217721, weights: [[0.64179198]\n",
      " [0.86668271]\n",
      " [0.56151965]]\n",
      "epoch: 44, cost: 0.9964862366137454, weights: [[0.64142169]\n",
      " [0.86585845]\n",
      " [0.56221267]]\n",
      "epoch: 45, cost: 0.9956219527363609, weights: [[0.64105148]\n",
      " [0.86503465]\n",
      " [0.56290523]]\n",
      "epoch: 46, cost: 0.9947586316073626, weights: [[0.64068135]\n",
      " [0.86421129]\n",
      " [0.56359732]]\n",
      "epoch: 47, cost: 0.993896272443759, weights: [[0.64031131]\n",
      " [0.86338839]\n",
      " [0.56428895]]\n",
      "epoch: 48, cost: 0.993034874461828, weights: [[0.63994134]\n",
      " [0.86256593]\n",
      " [0.56498011]]\n",
      "epoch: 49, cost: 0.9921744368771228, weights: [[0.63957146]\n",
      " [0.86174392]\n",
      " [0.56567082]]\n"
     ]
    }
   ],
   "source": [
    "params = [0.0015, 50]\n",
    "\n",
    "logistic_regression = LogisticRegression(*params)\n",
    "logistic_regression.fit(X_train, y_train)\n"
   ]
  },
  {
   "cell_type": "code",
   "execution_count": 21,
   "id": "aebd86b4",
   "metadata": {},
   "outputs": [
    {
     "data": {
      "text/plain": [
       "0.7155322682854016"
      ]
     },
     "execution_count": 21,
     "metadata": {},
     "output_type": "execute_result"
    }
   ],
   "source": [
    "# X_test = np.array([[1], [-1], [1]])\n",
    "# X_test = np.array([[1], [1], [-1]])\n",
    "X_test = np.array([[1], [0], [0.5]])\n",
    "logistic_regression.predict(X_test)"
   ]
  },
  {
   "cell_type": "code",
   "execution_count": 22,
   "id": "46b84612",
   "metadata": {},
   "outputs": [
    {
     "data": {
      "text/plain": [
       "[<matplotlib.lines.Line2D at 0x7f7f2a14d898>]"
      ]
     },
     "execution_count": 22,
     "metadata": {},
     "output_type": "execute_result"
    },
    {
     "data": {
      "image/png": "[encoded data removed]",
      "text/plain": [
       "<Figure size 576x576 with 1 Axes>"
      ]
     },
     "metadata": {
      "needs_background": "light"
     },
     "output_type": "display_data"
    }
   ],
   "source": [
    "fig, axes = plt.subplots(1,1, figsize=(8, 8))\n",
    "axes.scatter(train_data.loc[train_data['y']==1, 'x1'], train_data.loc[train_data['y']==1, 'x2'])\n",
    "axes.scatter(train_data.loc[train_data['y']==0, 'x1'], train_data.loc[train_data['y']==0, 'x2'])\n",
    "\n",
    "x_min, x_max = np.around(train_data['x1'].min()), np.around(train_data['x1'].max()) \n",
    "line_x = np.linspace(x_min, x_max, len(train_data['x1']))\n",
    "\n",
    "c = - logistic_regression.weights[0] / logistic_regression.weights[2]\n",
    "m = - logistic_regression.weights[1] / logistic_regression.weights[2]\n",
    "\n",
    "axes.plot(line_x, m * line_x + c)"
   ]
  },
  {
   "cell_type": "code",
   "execution_count": null,
   "id": "9b22ab2b",
   "metadata": {},
   "outputs": [],
   "source": []
  },
  {
   "cell_type": "code",
   "execution_count": null,
   "id": "e192b85e",
   "metadata": {},
   "outputs": [],
   "source": []
  },
  {
   "cell_type": "code",
   "execution_count": null,
   "id": "9cb64a97",
   "metadata": {},
   "outputs": [],
   "source": []
  },
  {
   "cell_type": "code",
   "execution_count": null,
   "id": "664f9346",
   "metadata": {},
   "outputs": [],
   "source": []
  }
 ],
 "metadata": {
  "kernelspec": {
   "display_name": "Python 3",
   "language": "python",
   "name": "python3"
  },
  "language_info": {
   "codemirror_mode": {
    "name": "ipython",
    "version": 3
   },
   "file_extension": ".py",
   "mimetype": "text/x-python",
   "name": "python",
   "nbconvert_exporter": "python",
   "pygments_lexer": "ipython3",
   "version": "3.6.9"
  }
 },
 "nbformat": 4,
 "nbformat_minor": 5
}
