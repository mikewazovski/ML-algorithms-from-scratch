{
 "cells": [
  {
   "cell_type": "code",
   "execution_count": 4,
   "id": "6a0fa2e3",
   "metadata": {},
   "outputs": [],
   "source": [
    "import os \n",
    "import sys\n",
    "import numpy as np\n",
    "import pandas as pd\n",
    "from matplotlib import pyplot as plt"
   ]
  },
  {
   "cell_type": "code",
   "execution_count": 5,
   "id": "d34a4687",
   "metadata": {},
   "outputs": [
    {
     "data": {
      "text/html": [
       "\n",
       "        <iframe\n",
       "            width=\"800\"\n",
       "            height=\"550\"\n",
       "            src=\"https://drawdata.xyz/scatter.html\"\n",
       "            frameborder=\"0\"\n",
       "            allowfullscreen\n",
       "        ></iframe>\n",
       "        "
      ],
      "text/plain": [
       "<IPython.lib.display.IFrame at 0x7f9a104d2ac8>"
      ]
     },
     "execution_count": 5,
     "metadata": {},
     "output_type": "execute_result"
    }
   ],
   "source": [
    "from drawdata import draw_scatter\n",
    "draw_scatter()"
   ]
  },
  {
   "cell_type": "code",
   "execution_count": 74,
   "id": "67ce2ba5",
   "metadata": {},
   "outputs": [
    {
     "name": "stdout",
     "output_type": "stream",
     "text": [
      "2\n",
      "661.62\n"
     ]
    }
   ],
   "source": [
    "#All x for a and b in one, and ALl y for a and b on the other list\n",
    "filename = \"data.csv\"\n",
    "file = pd.read_csv(filename)\n",
    "#[x1, x2]\n",
    "Ax = np.around(file.loc[lambda file: file['z'] == 'a', lambda file: ['x']],2)\n",
    "Bx = np.around(file.loc[lambda file: file['z'] == 'b', lambda file: ['x']],2)\n",
    "#[y1, y2]\n",
    "Ay = np.around(file.loc[lambda file: file['z'] == 'a', lambda file: ['y']],2)\n",
    "By = np.around(file.loc[lambda file: file['z'] == 'b', lambda file: ['y']],2)\n",
    "\n",
    "\n",
    "#remove the indexes\n",
    "Ax = Ax.reset_index(drop=True)\n",
    "Bx = Bx.reset_index(drop=True)\n",
    "Ay = Ay.reset_index(drop=True)\n",
    "By = By.reset_index(drop=True)\n",
    "\n",
    "\n",
    "#make number of features equal(remove NaN)!\n",
    "ln1 = len(Ax)\n",
    "ln2 = len(Bx)\n",
    "n = abs(ln1 - ln2)\n",
    "\n",
    "if ln1 > ln2:\n",
    "    Ax.drop(Ax.tail(n).index,inplace = True)\n",
    "    Ay.drop(Ax.tail(n).index,inplace = True)\n",
    "elif ln2 > ln1:\n",
    "    Bx.drop(Bx.tail(n).index,inplace = True)\n",
    "    By.drop(By.tail(n).index,inplace = True)\n",
    "\n",
    "    \n",
    "\n",
    "#merge for each\n",
    "dat1 = (pd.concat((Ax, Ay), axis=1)) #1\n",
    "dat2 = (pd.concat((Bx, By), axis=1)) #0\n",
    "\n",
    "\n",
    "test = [dat1, dat2]\n",
    "\n",
    "\n",
    "dat1['y1'] = 1\n",
    "dat2['y1'] = 1\n",
    "\n",
    "\n",
    "\n",
    "\n",
    "#A == 1\n",
    "#B == 0\n",
    "\n",
    "\n",
    "#desired_values\n",
    "y_true = np.array([1, 0])\n",
    "\n",
    "\n",
    "#sc\n",
    "\n",
    "# feature1 = (pd.concat((self.theta1*self.test[0].iloc[:,0], self.theta1*self.test[1].iloc[:,0]), axis=1)) #1\n",
    "# feature2 = (pd.concat((self.theta1*self.test[0].iloc[:,1], self.theta1*self.test[1].iloc[:,1]), axis=1)) #0\n",
    "\n",
    "\n",
    "print(test[1].iloc[:,0].max())\n",
    "\n",
    "\n",
    "# print(test)\n"
   ]
  },
  {
   "cell_type": "code",
   "execution_count": 123,
   "id": "87c43783",
   "metadata": {},
   "outputs": [],
   "source": [
    "training_params = {\n",
    "    \"lr\": 0.0015,\n",
    "    \"tol\": 0.0,\n",
    "    \"epoch\": 10\n",
    "}\n",
    "\n",
    "# training_params = {\n",
    "#     \"lr\": 0.002,\n",
    "#     \"tol\": 0.0,\n",
    "#     \"epoch\": 500\n",
    "# }\n"
   ]
  },
  {
   "cell_type": "code",
   "execution_count": 134,
   "id": "e6c8890f",
   "metadata": {},
   "outputs": [],
   "source": [
    "class LogReg:\n",
    "    def __init__(self, test, y_true, **params):\n",
    "        self.theta1 =  np.random.rand()\n",
    "        self.theta2 =  np.random.rand()\n",
    "        self.bias = np.random.rand()\n",
    "        self.test = test\n",
    "        self.y_true = y_true\n",
    "        self.lr = params.get(\"lr\")\n",
    "        self.tol = params.get(\"tol\")\n",
    "        self.epoch = params.get(\"epoch\")\n",
    "        \n",
    "    def grad_negative_theta_0(self):\n",
    "        z = self.theta1*test[1].iloc[:,0] + self.theta2*test[1].iloc[:,1] + self.bias\n",
    "        return 1. - 1./(np.exp(z) + 1)\n",
    "        \n",
    "  \n",
    "    #1\n",
    "    def grad_negative_theta_1(self):\n",
    "        x1 = self.test[1].iloc[:,0]   \n",
    "        z = self.theta1*test[1].iloc[:,0] + self.theta2*test[1].iloc[:,1]\n",
    "\n",
    "        \n",
    "        return x1 - x1/(np.exp(z) + 1)\n",
    "    #2\n",
    "    def grad_negative_theta_2(self):\n",
    "        x2 =  self.test[1].iloc[:,1] \n",
    "        z = self.theta1*test[1].iloc[:,0] + self.theta2*test[1].iloc[:,1]\n",
    "        return x2 - x2/(np.exp(z) + 1)\n",
    "    \n",
    "    def grad_positive_theta_0(self):\n",
    "        z = self.theta1*test[0].iloc[:,0] + self.theta2*test[0].iloc[:,1] + self.bias\n",
    "        return -1./(np.exp(z) + 1)\n",
    "    #a\n",
    "    def grad_positive_theta_1(self):\n",
    "        x1 = self.test[0].iloc[:,0]\n",
    "        z = self.theta1*test[0].iloc[:,0] + self.theta2*test[0].iloc[:,1]\n",
    "\n",
    "        return -x1/(np.exp(z) + 1)\n",
    "    #a\n",
    "    def grad_positive_theta_2(self):\n",
    "        \n",
    "        x2 = self.test[0].iloc[:,1]\n",
    "        z = self.theta1*test[0].iloc[:,0] + self.theta2*test[0].iloc[:,1]\n",
    "\n",
    "        return -x2/(np.exp(z) + 1)\n",
    "    \n",
    "#     def gradient(self):\n",
    "#         feature1 = (pd.concat((self.test[0].iloc[:,0], self.test[1].iloc[:,0]), axis=1)) #1st feature\n",
    "#         feature2 = (pd.concat((self.test[0].iloc[:,1], self.test[1].iloc[:,1]), axis=1)) #2nd feature\n",
    "        \n",
    "#         feature1 = np.array(feature1)\n",
    "#         feature2 = np.array(feature2)\n",
    "\n",
    "#         e = np.exp(1)\n",
    "        \n",
    "                        \n",
    "        \n",
    "#         theta1_grad = np.mean((-np.power(e, self.theta1*feature1 +\n",
    "#             self.theta2*feature2)/(1+np.power(e,\n",
    "#           self.theta1*feature1 + self.theta2*feature2))))\n",
    "        \n",
    "#         theta2_grad = np.mean(1/(1+np.power(e,\n",
    "#           self.theta1*feature1 + self.theta2*feature2)))\n",
    "                              \n",
    "        \n",
    "                              \n",
    "        \n",
    "#         theta2_grad = np.mean((-feature2/(np.power(e, self.theta1*feature1 +\n",
    "#             self.theta2*feature2) + 1)))\n",
    "        \n",
    "        \n",
    "    \n",
    "#         return theta1_grad, theta2_grad\n",
    "    \n",
    "    \n",
    "    def binary_cross_entropy(self, sigmoid):  \n",
    "        # from loss_vector = - self.y_true * np.log2(sigmoid) - (1 - self.y_true) * np.log2(1 - sigmoid) to :\n",
    "        loss_vector = - np.log2(sigmoid[0]) - np.log2(1 - sigmoid[1])\n",
    "        cost = np.mean(loss_vector)\n",
    "        return cost\n",
    "    \n",
    "    #/fixed\n",
    "    def sigmoid(self):\n",
    "        \n",
    "        hypothesis1 = self.theta1*test[0].iloc[:,0]  + self.theta2*test[0].iloc[:,1]  + self.bias\n",
    "        hypothesis2 = self.theta1*test[1].iloc[:,0] + self.theta2*test[1].iloc[:,1] +  self.bias \n",
    "        \n",
    "        #hypothesis array for test[0] and test[1]\n",
    "        hypothesis = [hypothesis1,hypothesis2]\n",
    "      \n",
    "        \n",
    "        return 1./(1. + np.exp(hypothesis))\n",
    "    \n",
    "\n",
    "                              \n",
    "    def fit(self):\n",
    "        theta1_ll = list()\n",
    "        theta2_ll = list()\n",
    "        cost_ll = list()\n",
    "        deltax_ll = list()\n",
    "        bias = list()\n",
    "        for it in range(self.epoch):\n",
    "            hypothesis = self.sigmoid()\n",
    "            cost_difference = 0\n",
    "            x_difference = 0\n",
    "            cost = self.binary_cross_entropy(hypothesis)\n",
    "            cost_ll.append(cost)\n",
    "            if cost <= self.tol + 1:\n",
    "                print(f\"Convergence reached at epoch {it}. Cost: {cost}\")\n",
    "                return\n",
    "            else:\n",
    "                bias.append(self.grad_negative_theta_0())\n",
    "                bias.append(self.grad_positive_theta_0())\n",
    "                theta2_ll.append(self.grad_positive_theta_1()) #b\n",
    "                theta1_ll.append(self.grad_positive_theta_1()) #a\n",
    "                theta2_ll.append(self.grad_negative_theta_2()) #b\n",
    "                theta1_ll.append(self.grad_positive_theta_2()) \n",
    "                self.theta1 = (self.theta1 - np.mean(theta1_ll) * self.lr)\n",
    "                self.theta2 = (self.theta2 - np.mean(theta2_ll) * self.lr)\n",
    "                \n",
    "                self.bias = (self.bias - np.mean(bias) * self.lr)\n",
    "                \n",
    "                if it > 0:\n",
    "                    print(f\"Epoch: {it}: Cost: {cost}, Theta1: {self.theta1}, Theta2: {self.theta2} \")\n",
    "                \n",
    "    def predict(self, x1, x2):\n",
    "        hypothesis = x1*self.theta1 + x2*self.theta2 + self.bias \n",
    "        e = np.exp(1)      \n",
    "        return np.around(1./(1. + np.exp(hypothesis)), 2)\n",
    "\n",
    "    \n",
    "\n",
    "        \n",
    "    \n",
    "    \n",
    "\n",
    "    \n",
    "        \n",
    "        "
   ]
  },
  {
   "cell_type": "code",
   "execution_count": 138,
   "id": "c3ddcce6",
   "metadata": {
    "scrolled": true
   },
   "outputs": [
    {
     "name": "stdout",
     "output_type": "stream",
     "text": [
      "Epoch: 1: Cost: 326.32811994525775, Theta1: 0.35602232896479635, Theta2: 0.2376397454691437 \n",
      "Epoch: 2: Cost: 252.88420687837964, Theta1: 0.35602232896479635, Theta2: 0.10049396960707474 \n",
      "Epoch: 3: Cost: 179.44029381150148, Theta1: 0.35602232896479635, Theta2: -0.03665180625499423 \n",
      "Epoch: 4: Cost: 105.99638074462331, Theta1: 0.35602232896479635, Theta2: -0.1737975821170632 \n",
      "Epoch: 5: Cost: 34.71887981053771, Theta1: 0.36563151822729373, Theta2: -0.30816060317888283 \n",
      "Epoch: 6: Cost: 1.0078208943440747, Theta1: 0.43038354277534263, Theta2: -0.4212171754232443 \n",
      "Convergence reached at epoch 7. Cost: 6.702059593279369e-05\n"
     ]
    }
   ],
   "source": [
    "ll = LogReg(test, y_true, **training_params)\n",
    "ll.fit()\n"
   ]
  },
  {
   "cell_type": "code",
   "execution_count": 139,
   "id": "dcb178de",
   "metadata": {},
   "outputs": [
    {
     "data": {
      "text/plain": [
       "0.0"
      ]
     },
     "execution_count": 139,
     "metadata": {},
     "output_type": "execute_result"
    }
   ],
   "source": [
    "ll.predict(300, 100)"
   ]
  },
  {
   "cell_type": "code",
   "execution_count": 140,
   "id": "e27820e0",
   "metadata": {},
   "outputs": [],
   "source": [
    "# def sigmoid(x):\n",
    "#     e = np.exp(1)\n",
    "#     return 1./(1. + np.power(e,-x))\n",
    "\n",
    "# def model(x):\n",
    "#     theta = np.random.rand()\n",
    "#     print(theta)\n",
    "#     return x*theta\n",
    "\n",
    "# def binary_cross_entropy(pred, y_true):\n",
    "#     loss_vector = - y_true * np.log2( pred ) - (1 - y_true) * np.log2( 1 - pred )\n",
    "#     cost = np.mean(loss_vector)\n",
    "#     return cost"
   ]
  },
  {
   "cell_type": "code",
   "execution_count": 141,
   "id": "28438b36",
   "metadata": {},
   "outputs": [
    {
     "name": "stdout",
     "output_type": "stream",
     "text": [
      "1.2126547323690187\n"
     ]
    },
    {
     "data": {
      "text/plain": [
       "[<matplotlib.lines.Line2D at 0x7f99a0e8cf98>]"
      ]
     },
     "execution_count": 141,
     "metadata": {},
     "output_type": "execute_result"
    },
    {
     "data": {
      "image/png": "[encoded data removed]",
      "text/plain": [
       "<Figure size 1152x1152 with 1 Axes>"
      ]
     },
     "metadata": {
      "needs_background": "light"
     },
     "output_type": "display_data"
    }
   ],
   "source": [
    "fig, axes = plt.subplots(1,1, figsize=(16, 16))\n",
    "axes.scatter(test[0].iloc[:,0], test[0].iloc[:,1])\n",
    "axes.scatter(test[1].iloc[:,0], test[1].iloc[:,1])\n",
    "\n",
    "x_min, x_max = test[0].iloc[:,0].min(), test[1].iloc[:,0].max()\n",
    "line_x = np.linspace(x_min, x_max, len((test[0].iloc[:,0]) + len((test[1].iloc[:,0]))))\n",
    "\n",
    "c = - ll.bias / ll.theta2\n",
    "m = - ll.theta1 / ll.theta2\n",
    "print(c)\n",
    "\n",
    "axes.plot(line_x, m * line_x + c )"
   ]
  },
  {
   "cell_type": "code",
   "execution_count": null,
   "id": "8e45f108",
   "metadata": {},
   "outputs": [],
   "source": [
    "#disadvantages:\n",
    "  #1 no shuffle - grad not exact \n",
    "  #2 not organized\n",
    "  # 3 can't do gradient checking dont know what is delta x"
   ]
  },
  {
   "cell_type": "code",
   "execution_count": null,
   "id": "5caa14ca",
   "metadata": {},
   "outputs": [],
   "source": []
  }
 ],
 "metadata": {
  "kernelspec": {
   "display_name": "Python 3",
   "language": "python",
   "name": "python3"
  },
  "language_info": {
   "codemirror_mode": {
    "name": "ipython",
    "version": 3
   },
   "file_extension": ".py",
   "mimetype": "text/x-python",
   "name": "python",
   "nbconvert_exporter": "python",
   "pygments_lexer": "ipython3",
   "version": "3.6.9"
  }
 },
 "nbformat": 4,
 "nbformat_minor": 5
}
